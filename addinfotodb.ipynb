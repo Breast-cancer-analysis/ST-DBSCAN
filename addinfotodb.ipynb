{
 "cells": [
  {
   "cell_type": "code",
   "execution_count": 2,
   "metadata": {},
   "outputs": [],
   "source": [
    "# This notebook :\n",
    "# - adds the slip and area number to a csv file by searching through the id string\n",
    "# - makes a new database with the coordinate values of all of the cells for all slip areas without repeats\n",
    "# - adds the coordinate values to the time event database"
   ]
  },
  {
   "cell_type": "code",
   "execution_count": 1,
   "metadata": {},
   "outputs": [],
   "source": [
    "# import libraries\n",
    "import os\n",
    "import pandas as pd\n",
    "import numpy as np\n",
    "import matplotlib.pyplot as plt\n",
    "from st_dbscan import ST_DBSCAN\n",
    "from sklearn.preprocessing import MinMaxScaler\n",
    "from matplotlib.colors import Normalize\n",
    "\n",
    "# import files\n",
    "file_path_time = r\"C:\\Users\\ainii\\OneDrive\\Documents\\TempSpa\\locations\\sortedfiles\\ST-DBSCAN\\event_time_list\\468.csv\" # add file path\n",
    "file_path_spatial = r\"C:\\Users\\ainii\\OneDrive\\Documents\\TempSpa\\locations\\sortedfiles\\ST-DBSCAN\\eventdata\\L468_events.csv\"\n",
    "df_468_time = pd.read_csv(file_path_time)\n",
    "df_468_spatial = pd.read_csv(file_path_spatial)\n",
    "\n",
    "\n",
    "# print(df_468_time.head())\n",
    "# print(df_468_spatial.head())"
   ]
  },
  {
   "cell_type": "code",
   "execution_count": null,
   "metadata": {},
   "outputs": [],
   "source": [
    "# add column indicating slip area\n",
    "\n",
    "# Define a function to extract slip and area number from the ID\n",
    "def extract_slip_area(row):\n",
    "    # Access the ID string from the first column\n",
    "    id_str = row.iloc[0]  # Assuming the ID is always in the first column\n",
    "    # Split the ID string into parts based on underscores\n",
    "    parts = id_str.split('_')\n",
    "    # Search for parts containing 'slip' and 'area'\n",
    "    slip = next((part for part in parts if 'slip' in part), None)\n",
    "    area = next((part for part in parts if 'area' in part), None)\n",
    "    # Combine slip and area numbers if found\n",
    "    if slip and area:\n",
    "        return f\"{slip}_{area}\"\n",
    "    else:\n",
    "        return None\n",
    "\n",
    "df_468_time['Slip_Area'] = df_468_time.apply(extract_slip_area, axis=1)\n",
    "\n",
    "# Save the DataFrame back to the database\n",
    "df_468_time.to_csv(file_path_time, index=False)  # Or any other method to save your DataFrame back to your database\n",
    "\n",
    "print(df_468_time.head())"
   ]
  },
  {
   "cell_type": "code",
   "execution_count": 9,
   "metadata": {},
   "outputs": [],
   "source": [
    "# extract coordinate information from events data\n",
    "\n",
    "# Load spatial data into a pandas DataFrame\n",
    "file_path_spatial = r\"C:\\Users\\ainii\\OneDrive\\Documents\\TempSpa\\locations\\sortedfiles\\ST-DBSCAN\\eventdata\\L468_events.csv\"\n",
    "df_468_spatial = pd.read_csv(file_path_spatial)\n",
    "\n",
    "# Group by cell characteristics (column 12 and column 13) and select the first occurrence of each cell\n",
    "unique_cells_df = df_468_spatial.groupby(['Slip_Area', 'Cell_Number']).first().reset_index()\n",
    "\n",
    "# Select the required columns\n",
    "new_df = unique_cells_df[['cell_x', 'cell_y', 'Slip_Area', 'Cell_Number']]\n",
    "\n",
    "# Define the path for the new database\n",
    "new_file_path = r\"C:\\Users\\ainii\\OneDrive\\Documents\\TempSpa\\locations\\sortedfiles\\ST-DBSCAN\\temp_spatial_coordinates_data\\L468_spatial_info.csv\"\n",
    "\n",
    "# Save the new DataFrame to the specified folder\n",
    "new_df.to_csv(new_file_path, index=False)\n",
    "\n"
   ]
  },
  {
   "cell_type": "code",
   "execution_count": 10,
   "metadata": {},
   "outputs": [],
   "source": [
    "# File paths\n",
    "file_path_spatial_info = r\"C:\\Users\\ainii\\OneDrive\\Documents\\TempSpa\\locations\\sortedfiles\\ST-DBSCAN\\temp_spatial_coordinates_data\\L468_spatial_info.csv\"\n",
    "\n",
    "# Read spatial information and event data\n",
    "df_spatial_info = pd.read_csv(file_path_spatial_info)\n",
    "df_event_data = pd.read_csv(file_path_time)\n",
    "\n",
    "# Merge dataframes based on Slip_Area and Cell_Number\n",
    "merged_df = pd.merge(df_event_data, df_spatial_info, on=['Slip_Area', 'Cell_Number'], how='left')\n",
    "\n",
    "# Save the merged dataframe back to the event data file\n",
    "merged_df.to_csv(file_path_time, index=False)\n"
   ]
  }
 ],
 "metadata": {
  "kernelspec": {
   "display_name": "Python 3",
   "language": "python",
   "name": "python3"
  },
  "language_info": {
   "codemirror_mode": {
    "name": "ipython",
    "version": 3
   },
   "file_extension": ".py",
   "mimetype": "text/x-python",
   "name": "python",
   "nbconvert_exporter": "python",
   "pygments_lexer": "ipython3",
   "version": "3.10.5"
  }
 },
 "nbformat": 4,
 "nbformat_minor": 2
}
